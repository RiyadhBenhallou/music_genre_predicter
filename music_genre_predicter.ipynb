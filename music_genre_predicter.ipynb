{
  "nbformat": 4,
  "nbformat_minor": 0,
  "metadata": {
    "colab": {
      "provenance": [],
      "authorship_tag": "ABX9TyO7UPA9pV36PbKT+g5dbDV/",
      "include_colab_link": true
    },
    "kernelspec": {
      "name": "python3",
      "display_name": "Python 3"
    },
    "language_info": {
      "name": "python"
    }
  },
  "cells": [
    {
      "cell_type": "markdown",
      "metadata": {
        "id": "view-in-github",
        "colab_type": "text"
      },
      "source": [
        "<a href=\"https://colab.research.google.com/github/RiyadhBenhallou/music_recommender/blob/main/music_genre_predicter.ipynb\" target=\"_parent\"><img src=\"https://colab.research.google.com/assets/colab-badge.svg\" alt=\"Open In Colab\"/></a>"
      ]
    },
    {
      "cell_type": "code",
      "execution_count": 38,
      "metadata": {
        "id": "st2U8TdKyFN5"
      },
      "outputs": [],
      "source": [
        "import pandas as pd\n",
        "from sklearn.tree import DecisionTreeClassifier\n",
        "from sklearn.model_selection import train_test_split\n",
        "from sklearn.metrics import accuracy_score\n",
        "import joblib\n",
        "from sklearn import tree"
      ]
    },
    {
      "cell_type": "code",
      "source": [
        "df = pd.read_csv('music.csv')"
      ],
      "metadata": {
        "id": "78n8pZih3JqN"
      },
      "execution_count": 27,
      "outputs": []
    },
    {
      "cell_type": "code",
      "source": [
        "X = df.drop(columns=['genre'])\n",
        "y = df['genre']"
      ],
      "metadata": {
        "id": "7jSK162E4QEE"
      },
      "execution_count": 59,
      "outputs": []
    },
    {
      "cell_type": "code",
      "source": [
        "# X_train, X_test, y_train, y_test = train_test_split(X, y, test_size=0.5)"
      ],
      "metadata": {
        "id": "-gEAi3M-A-mB"
      },
      "execution_count": 57,
      "outputs": []
    },
    {
      "cell_type": "code",
      "source": [
        "model = DecisionTreeClassifier()\n",
        "model.fit(X, y)\n",
        "# model.fit(X_train, y_train)\n",
        "\n",
        "# joblib.dump(model, 'music-recommender.joblib')\n",
        "# model = joblib.load('music-recommender.joblib')\n",
        "\n",
        "# tree.export_graphviz(model, out_file='music-recommender.dot',\n",
        "#                      feature_names=['age', 'gender'],\n",
        "#                      class_names=sorted(y.unique()),\n",
        "#                      label='all',\n",
        "#                      rounded=True,\n",
        "#                      filled=True)\n",
        "\n",
        "predictions = model.predict([[21, 1], [22, 0]])\n",
        "predictions\n",
        "\n",
        "# predictions = model.predict(X_test)\n",
        "# score = accuracy_score(y_test, predictions)\n",
        "# score\n",
        "#"
      ],
      "metadata": {
        "colab": {
          "base_uri": "https://localhost:8080/"
        },
        "id": "DhbjvG0q-LOv",
        "outputId": "7fc6d836-e611-4bbf-ddfc-99fbab433875"
      },
      "execution_count": 64,
      "outputs": [
        {
          "output_type": "stream",
          "name": "stderr",
          "text": [
            "/usr/local/lib/python3.10/dist-packages/sklearn/base.py:493: UserWarning: X does not have valid feature names, but DecisionTreeClassifier was fitted with feature names\n",
            "  warnings.warn(\n"
          ]
        },
        {
          "output_type": "execute_result",
          "data": {
            "text/plain": [
              "array(['HipHop', 'Dance'], dtype=object)"
            ]
          },
          "metadata": {},
          "execution_count": 64
        }
      ]
    }
  ]
}